{
  "nbformat": 4,
  "nbformat_minor": 0,
  "metadata": {
    "colab": {
      "provenance": []
    },
    "kernelspec": {
      "name": "python3",
      "display_name": "Python 3"
    },
    "language_info": {
      "name": "python"
    }
  },
  "cells": [
    {
      "cell_type": "code",
      "execution_count": null,
      "metadata": {
        "colab": {
          "base_uri": "https://localhost:8080/",
          "height": 1000
        },
        "id": "5yv831qgFiwr",
        "outputId": "44589363-2b06-44f8-ab92-67fa6773ab0f"
      },
      "outputs": [
        {
          "output_type": "display_data",
          "data": {
            "text/plain": [
              "<Figure size 640x480 with 1 Axes>"
            ],
            "image/png": "[encoded data removed]"
          },
          "metadata": {}
        },
        {
          "output_type": "stream",
          "name": "stdout",
          "text": [
            "\n",
            "Matching segments between the sequences:\n",
            "Residues 1-3\n",
            "Residue 5\n",
            "Residues 7-9\n",
            "Residue 13\n",
            "Residues 15-21\n",
            "Residue 23\n",
            "Residue 25\n",
            "Residues 27-29\n",
            "Residues 31-33\n",
            "Residues 35-43\n",
            "Residues 45-47\n",
            "Residues 49-50\n",
            "Residue 52\n",
            "Residue 54\n",
            "Residues 57-59\n",
            "Residue 61\n",
            "Residues 63-69\n",
            "Residue 72\n",
            "Residue 74\n",
            "Residues 79-81\n",
            "Residue 83\n",
            "Residues 85-86\n",
            "Residues 89-108\n",
            "Residue 111\n",
            "Residues 114-116\n",
            "Residues 118-119\n",
            "Residue 121\n",
            "Residues 123-125\n",
            "Residues 128-130\n",
            "Residues 132-133\n",
            "Residue 135\n",
            "Residues 138-139\n",
            "Residues 141-143\n",
            "Residues 145-147\n"
          ]
        }
      ],
      "source": [
        "import matplotlib.pyplot as plt\n",
        "\n",
        "human_seq = \"MVHLTPEEKSAVTALWGKVNVDEVGGEALGRLLVVYPWTQRFFESFGDLSTPDAVMGNPKVKAHGKKVLGAFSDGLAHLDNLKGTFATLSELHCDKLHVDPENFRLLGNVLVCVLAHHFGKEFTPPVQAAYQKVVAGVANALAHKYH\"\n",
        "chicken_seq = \"MVHWTAEEKQLITGLWGKVNVAECGAEALARLLIVYPWTQRFFASFGNLSSPTAILGNPMVRAHGKKVLTSFGDAVKNLDNIKNTFSQLSELHCDKLHVDPENFRLLGDILIIVLAAHFSKDFTPECQAAWQKLVRVVAHALARKYH\"\n",
        "\n",
        "plt.figure(dpi=100)\n",
        "\n",
        "matching_positions = []\n",
        "\n",
        "for i, human_char in enumerate(human_seq):\n",
        "    for j, chicken_char in enumerate(chicken_seq):\n",
        "        if human_char == chicken_char:\n",
        "            plt.scatter(i, j, c=\"black\", s=0.5)\n",
        "            if i == j:\n",
        "                matching_positions.append(i + 1)\n",
        "\n",
        "plt.xlabel(\"Human\")\n",
        "plt.ylabel(\"Chicken\")\n",
        "plt.show()\n",
        "\n",
        "print(\"\\nMatching segments between the sequences:\")\n",
        "\n",
        "continuous_segment = []\n",
        "for match in matching_positions:\n",
        "    if not continuous_segment or match - continuous_segment[-1] == 1:\n",
        "        continuous_segment.append(match)\n",
        "    else:\n",
        "        print(f\"Residues {continuous_segment[0]}-{continuous_segment[-1]}\" if len(continuous_segment) > 1 else f\"Residue {continuous_segment[0]}\")\n",
        "        continuous_segment = [match]\n",
        "\n",
        "if continuous_segment:\n",
        "    print(f\"Residues {continuous_segment[0]}-{continuous_segment[-1]}\" if len(continuous_segment) > 1 else f\"Residue {continuous_segment[0]}\")\n"
      ]
    },
    {
      "cell_type": "code",
      "source": [
        "#Question2\n",
        "seq1 = \"AACTCATA\"\n",
        "seq2 = \"AAG--ATA\"\n",
        "\n",
        "score = 0\n",
        "match_score = 1\n",
        "mismatch_penalty = 0\n",
        "gap_open_penalty = 2\n",
        "gap_extension_penalty = 1\n",
        "gap_active = False\n",
        "\n",
        "for i in range(len(seq1)):\n",
        "    if seq1[i] == \"-\" or seq2[i] == \"-\":\n",
        "        if not gap_active:\n",
        "            score -= gap_open_penalty + gap_extension_penalty\n",
        "            gap_active = True\n",
        "        else:\n",
        "            score -= gap_extension_penalty\n",
        "    else:\n",
        "        gap_active = False\n",
        "        if seq1[i] == seq2[i]:\n",
        "            score += match_score\n",
        "        else:\n",
        "            score -= mismatch_penalty\n",
        "\n",
        "print(f\"\\nThe alignment score is {score}.\")\n",
        "\n"
      ],
      "metadata": {
        "colab": {
          "base_uri": "https://localhost:8080/"
        },
        "id": "qH6BA6ttF9lG",
        "outputId": "6a9d7344-97d6-45a8-afff-d4e5d29c26ee"
      },
      "execution_count": null,
      "outputs": [
        {
          "output_type": "stream",
          "name": "stdout",
          "text": [
            "\n",
            "The alignment score is 1.\n"
          ]
        }
      ]
    },
    {
      "cell_type": "code",
      "source": [
        "#Qustion4\n",
        "def needleman_wunsch(seq1, seq2, match=2, mismatch=-1, gap=-2):\n",
        "    m, n = len(seq1), len(seq2)\n",
        "\n",
        "    dp = [[0 for _ in range(n+1)] for _ in range(m+1)]\n",
        "\n",
        "    for i in range(1, m+1):\n",
        "        dp[i][0] = dp[i-1][0] + gap\n",
        "    for j in range(1, n+1):\n",
        "        dp[0][j] = dp[0][j-1] + gap\n",
        "\n",
        "    #DP table\n",
        "    for i in range(1, m+1):\n",
        "        for j in range(1, n+1):\n",
        "            diag_score = dp[i-1][j-1] + (match if seq1[i-1] == seq2[j-1] else mismatch)\n",
        "            up_score = dp[i-1][j] + gap\n",
        "            left_score = dp[i][j-1] + gap\n",
        "            dp[i][j] = max(diag_score, up_score, left_score)\n",
        "\n",
        "    # Traceback\n",
        "    align1, align2 = \"\", \"\"\n",
        "    i, j = m, n\n",
        "    while i > 0 and j > 0:\n",
        "        current_score = dp[i][j]\n",
        "        score_diag = dp[i-1][j-1]\n",
        "        score_up = dp[i-1][j]\n",
        "        score_left = dp[i][j-1]\n",
        "        if current_score == score_diag + (match if seq1[i-1] == seq2[j-1] else mismatch):\n",
        "            align1 = seq1[i-1] + align1\n",
        "            align2 = seq2[j-1] + align2\n",
        "            i -= 1\n",
        "            j -= 1\n",
        "        elif current_score == score_up + gap:\n",
        "            align1 = seq1[i-1] + align1\n",
        "            align2 = \"-\" + align2\n",
        "            i -= 1\n",
        "        else:  # current_score == score_left + gap\n",
        "            align1 = \"-\" + align1\n",
        "            align2 = seq2[j-1] + align2\n",
        "            j -= 1\n",
        "\n",
        "    while i > 0:\n",
        "        align1 = seq1[i-1] + align1\n",
        "        align2 = \"-\" + align2\n",
        "        i -= 1\n",
        "    while j > 0:\n",
        "        align1 = \"-\" + align1\n",
        "        align2 = seq2[j-1] + align2\n",
        "        j -= 1\n",
        "\n",
        "    optimal_score = dp[m][n]\n",
        "\n",
        "    return dp, align1, align2, optimal_score\n",
        "\n",
        "def print_dp_table(dp):\n",
        "    for row in dp:\n",
        "        print(\" \".join(f\"{cell:4}\" for cell in row))\n",
        "\n",
        "# Given sequences\n",
        "seq1 = \"ACAGTCGAACG\"\n",
        "seq2 = \"ACCGTCCG\"\n",
        "\n",
        "dp_table, alignment1, alignment2, optimal_score = needleman_wunsch(seq1, seq2, match=2, mismatch=-1, gap=-2)\n",
        "\n",
        "print(\"DP Table:\")\n",
        "print_dp_table(dp_table)\n",
        "\n",
        "# Print the resulting alignment\n",
        "print(\"\\nOptimal Alignment:\")\n",
        "print(alignment1)\n",
        "print(alignment2)\n",
        "\n",
        "# Print the optimal alignment score\n",
        "print(\"\\nOptimal Alignment Score:\", optimal_score)\n"
      ],
      "metadata": {
        "colab": {
          "base_uri": "https://localhost:8080/"
        },
        "id": "qt01VOO1JQhF",
        "outputId": "3b9aef60-96b5-45ab-c872-df5d21fbf8ce"
      },
      "execution_count": null,
      "outputs": [
        {
          "output_type": "stream",
          "name": "stdout",
          "text": [
            "DP Table:\n",
            "   0   -2   -4   -6   -8  -10  -12  -14  -16\n",
            "  -2    2    0   -2   -4   -6   -8  -10  -12\n",
            "  -4    0    4    2    0   -2   -4   -6   -8\n",
            "  -6   -2    2    3    1   -1   -3   -5   -7\n",
            "  -8   -4    0    1    5    3    1   -1   -3\n",
            " -10   -6   -2   -1    3    7    5    3    1\n",
            " -12   -8   -4    0    1    5    9    7    5\n",
            " -14  -10   -6   -2    2    3    7    8    9\n",
            " -16  -12   -8   -4    0    1    5    6    7\n",
            " -18  -14  -10   -6   -2   -1    3    4    5\n",
            " -20  -16  -12   -8   -4   -3    1    5    3\n",
            " -22  -18  -14  -10   -6   -5   -1    3    7\n",
            "\n",
            "Optimal Alignment:\n",
            "ACAGTCGAACG\n",
            "ACCGTC---CG\n",
            "\n",
            "Optimal Alignment Score: 7\n"
          ]
        }
      ]
    },
    {
      "cell_type": "code",
      "source": [
        "#question6\n",
        "import numpy as np\n",
        "\n",
        "match_score = 2\n",
        "mismatch_score = -1\n",
        "gap_penalty = -2\n",
        "\n",
        "seq1 = \"ACGTATCGCGTATA\"\n",
        "seq2 = \"GATGCGTATCG\"\n",
        "\n",
        "rows = len(seq1) + 1\n",
        "cols = len(seq2) + 1\n",
        "score_matrix = np.zeros((rows, cols), dtype=int)\n",
        "\n",
        "max_score = 0\n",
        "max_pos = None\n",
        "\n",
        "for i in range(1, rows):\n",
        "    for j in range(1, cols):\n",
        "        match = score_matrix[i-1, j-1] + (match_score if seq1[i-1] == seq2[j-1] else mismatch_score)\n",
        "        delete = score_matrix[i-1, j] + gap_penalty\n",
        "        insert = score_matrix[i, j-1] + gap_penalty\n",
        "        score_matrix[i, j] = max(match, delete, insert, 0)\n",
        "\n",
        "        if score_matrix[i, j] > max_score:\n",
        "            max_score = score_matrix[i, j]\n",
        "            max_pos = (i, j)\n",
        "\n",
        "print(\"Smith-Waterman Alignment Score Matrix:\")\n",
        "print(score_matrix)\n",
        "\n",
        "aligned_seq1 = \"\"\n",
        "aligned_seq2 = \"\"\n",
        "i, j = max_pos\n",
        "\n",
        "while score_matrix[i, j] > 0:\n",
        "    if i > 0 and j > 0 and score_matrix[i, j] == score_matrix[i-1, j-1] + (match_score if seq1[i-1] == seq2[j-1] else mismatch_score):\n",
        "        aligned_seq1 = seq1[i-1] + aligned_seq1\n",
        "        aligned_seq2 = seq2[j-1] + aligned_seq2\n",
        "        i -= 1\n",
        "        j -= 1\n",
        "    elif i > 0 and score_matrix[i, j] == score_matrix[i-1, j] + gap_penalty:\n",
        "        aligned_seq1 = seq1[i-1] + aligned_seq1\n",
        "        aligned_seq2 = \"-\" + aligned_seq2\n",
        "        i -= 1\n",
        "    else:\n",
        "        aligned_seq1 = \"-\" + aligned_seq1\n",
        "        aligned_seq2 = seq2[j-1] + aligned_seq2\n",
        "        j -= 1\n",
        "\n",
        "print(\"\\nOptimal Local Alignment:\")\n",
        "print(aligned_seq1)\n",
        "print(aligned_seq2)\n"
      ],
      "metadata": {
        "colab": {
          "base_uri": "https://localhost:8080/"
        },
        "id": "cDBS6SzuLL4x",
        "outputId": "fbda30b2-cb95-4b88-a9b9-3d272e2f97f5"
      },
      "execution_count": null,
      "outputs": [
        {
          "output_type": "stream",
          "name": "stdout",
          "text": [
            "Smith-Waterman Alignment Score Matrix:\n",
            "[[ 0  0  0  0  0  0  0  0  0  0  0  0]\n",
            " [ 0  0  2  0  0  0  0  0  2  0  0  0]\n",
            " [ 0  0  0  1  0  2  0  0  0  1  2  0]\n",
            " [ 0  2  0  0  3  1  4  2  0  0  0  4]\n",
            " [ 0  0  1  2  1  2  2  6  4  2  0  2]\n",
            " [ 0  0  2  0  1  0  1  4  8  6  4  2]\n",
            " [ 0  0  0  4  2  0  0  3  6 10  8  6]\n",
            " [ 0  0  0  2  3  4  2  1  4  8 12 10]\n",
            " [ 0  2  0  0  4  2  6  4  2  6 10 14]\n",
            " [ 0  0  1  0  2  6  4  5  3  4  8 12]\n",
            " [ 0  2  0  0  2  4  8  6  4  2  6 10]\n",
            " [ 0  0  1  2  0  2  6 10  8  6  4  8]\n",
            " [ 0  0  2  0  1  0  4  8 12 10  8  6]\n",
            " [ 0  0  0  4  2  0  2  6 10 14 12 10]\n",
            " [ 0  0  2  2  3  1  0  4  8 12 13 11]]\n",
            "\n",
            "Optimal Local Alignment:\n",
            "CGTATCG\n",
            "CGTATCG\n"
          ]
        }
      ]
    }
  ]
}